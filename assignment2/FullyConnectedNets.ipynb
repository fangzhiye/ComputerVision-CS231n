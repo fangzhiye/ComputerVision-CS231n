{
 "cells": [
  {
   "cell_type": "markdown",
   "metadata": {},
   "source": [
    "# Fully-Connected Neural Nets\n",
    "In the previous homework you implemented a fully-connected two-layer neural network on CIFAR-10. The implementation was simple but not very modular since the loss and gradient were computed in a single monolithic function. This is manageable for a simple two-layer network, but would become impractical as we move to bigger models. Ideally we want to build networks using a more modular design so that we can implement different layer types in isolation and then snap them together into models with different architectures.\n",
    "\n",
    "In this exercise we will implement fully-connected networks using a more modular approach. For each layer we will implement a `forward` and a `backward` function. The `forward` function will receive inputs, weights, and other parameters and will return both an output and a `cache` object storing data needed for the backward pass, like this:\n",
    "\n",
    "```python\n",
    "def layer_forward(x, w):\n",
    "  \"\"\" Receive inputs x and weights w \"\"\"\n",
    "  # Do some computations ...\n",
    "  z = # ... some intermediate value\n",
    "  # Do some more computations ...\n",
    "  out = # the output\n",
    "   \n",
    "  cache = (x, w, z, out) # Values we need to compute gradients\n",
    "   \n",
    "  return out, cache\n",
    "```\n",
    "\n",
    "The backward pass will receive upstream derivatives and the `cache` object, and will return gradients with respect to the inputs and weights, like this:\n",
    "\n",
    "```python\n",
    "def layer_backward(dout, cache):\n",
    "  \"\"\"\n",
    "  Receive derivative of loss with respect to outputs and cache,\n",
    "  and compute derivative with respect to inputs.\n",
    "  \"\"\"\n",
    "  # Unpack cache values\n",
    "  x, w, z, out = cache\n",
    "  \n",
    "  # Use values in cache to compute derivatives\n",
    "  dx = # Derivative of loss with respect to x\n",
    "  dw = # Derivative of loss with respect to w\n",
    "  \n",
    "  return dx, dw\n",
    "```\n",
    "\n",
    "After implementing a bunch of layers this way, we will be able to easily combine them to build classifiers with different architectures.\n",
    "\n",
    "In addition to implementing fully-connected networks of arbitrary depth, we will also explore different update rules for optimization, and introduce Dropout as a regularizer and Batch Normalization as a tool to more efficiently optimize deep networks.\n",
    "  "
   ]
  },
  {
   "cell_type": "code",
   "execution_count": 1,
   "metadata": {
    "scrolled": true
   },
   "outputs": [
    {
     "name": "stdout",
     "output_type": "stream",
     "text": [
      "run the following from the cs231n directory and try again:\n",
      "python setup.py build_ext --inplace\n",
      "You may also need to restart your iPython kernel\n"
     ]
    }
   ],
   "source": [
    "# As usual, a bit of setup\n",
    "from __future__ import print_function\n",
    "import time\n",
    "import numpy as np\n",
    "import matplotlib.pyplot as plt\n",
    "from cs231n.classifiers.fc_net import *\n",
    "from cs231n.data_utils import get_CIFAR10_data\n",
    "from cs231n.gradient_check import eval_numerical_gradient, eval_numerical_gradient_array\n",
    "from cs231n.solver import Solver\n",
    "\n",
    "%matplotlib inline\n",
    "plt.rcParams['figure.figsize'] = (10.0, 8.0) # set default size of plots\n",
    "plt.rcParams['image.interpolation'] = 'nearest'\n",
    "plt.rcParams['image.cmap'] = 'gray'\n",
    "\n",
    "# for auto-reloading external modules\n",
    "# see http://stackoverflow.com/questions/1907993/autoreload-of-modules-in-ipython\n",
    "%load_ext autoreload\n",
    "%autoreload 2\n",
    "\n",
    "def rel_error(x, y):\n",
    "  \"\"\" returns relative error \"\"\"\n",
    "  return np.max(np.abs(x - y) / (np.maximum(1e-8, np.abs(x) + np.abs(y))))"
   ]
  },
  {
   "cell_type": "code",
   "execution_count": 2,
   "metadata": {},
   "outputs": [
    {
     "name": "stdout",
     "output_type": "stream",
     "text": [
      "('X_train: ', (49000, 3, 32, 32))\n",
      "('y_train: ', (49000,))\n",
      "('X_val: ', (1000, 3, 32, 32))\n",
      "('y_val: ', (1000,))\n",
      "('X_test: ', (1000, 3, 32, 32))\n",
      "('y_test: ', (1000,))\n"
     ]
    }
   ],
   "source": [
    "# Load the (preprocessed) CIFAR10 data.\n",
    "\n",
    "data = get_CIFAR10_data()\n",
    "for k, v in list(data.items()): #对于dictionary返回key,values\n",
    "  print(('%s: ' % k, v.shape))"
   ]
  },
  {
   "cell_type": "markdown",
   "metadata": {},
   "source": [
    "# Affine layer: foward\n",
    "Open the file `cs231n/layers.py` and implement the `affine_forward` function.\n",
    "\n",
    "Once you are done you can test your implementaion by running the following:"
   ]
  },
  {
   "cell_type": "code",
   "execution_count": 5,
   "metadata": {},
   "outputs": [
    {
     "name": "stdout",
     "output_type": "stream",
     "text": [
      "Testing affine_forward function:\n",
      "difference:  9.76985004799e-10\n"
     ]
    }
   ],
   "source": [
    "# Test the affine_forward function\n",
    "\n",
    "num_inputs = 2\n",
    "input_shape = (4, 5, 6)\n",
    "output_dim = 3\n",
    "\n",
    "#np.prod是元素相乘的结果可以指定方向\n",
    "#np.pad是可以指定元素行或列扩展\n",
    "input_size = num_inputs * np.prod(input_shape) \n",
    "weight_size = output_dim * np.prod(input_shape)\n",
    "\n",
    "#*inpu_shape表示将x reshape之后的维度是（num_inputs, input_size)即维度是[2,4,5,6]\n",
    "x = np.linspace(-0.1, 0.5, num=input_size).reshape(num_inputs, *input_shape)\n",
    "w = np.linspace(-0.2, 0.3, num=weight_size).reshape(np.prod(input_shape), output_dim)\n",
    "b = np.linspace(-0.3, 0.1, num=output_dim)\n",
    "\n",
    "out, _ = affine_forward(x, w, b)\n",
    "correct_out = np.array([[ 1.49834967,  1.70660132,  1.91485297],\n",
    "                        [ 3.25553199,  3.5141327,   3.77273342]])\n",
    "\n",
    "# Compare your output with ours. The error should be around 1e-9.\n",
    "print('Testing affine_forward function:')\n",
    "print('difference: ', rel_error(out, correct_out))"
   ]
  },
  {
   "cell_type": "markdown",
   "metadata": {},
   "source": [
    "# Affine layer: backward\n",
    "Now implement the `affine_backward` function and test your implementation using numeric gradient checking."
   ]
  },
  {
   "cell_type": "code",
   "execution_count": 7,
   "metadata": {},
   "outputs": [
    {
     "name": "stdout",
     "output_type": "stream",
     "text": [
      "Testing affine_backward function:\n",
      "dx error:  1.09082101132e-10\n",
      "dw error:  2.27380555779e-10\n",
      "db error:  7.73697883449e-12\n"
     ]
    }
   ],
   "source": [
    "# Test the affine_backward function\n",
    "np.random.seed(231)\n",
    "x = np.random.randn(10, 2, 3)#维度是[10, 2, 3]\n",
    "w = np.random.randn(6, 5)\n",
    "b = np.random.randn(5)\n",
    "dout = np.random.randn(10, 5)\n",
    "\n",
    "dx_num = eval_numerical_gradient_array(lambda x: affine_forward(x, w, b)[0], x, dout)\n",
    "dw_num = eval_numerical_gradient_array(lambda w: affine_forward(x, w, b)[0], w, dout)\n",
    "db_num = eval_numerical_gradient_array(lambda b: affine_forward(x, w, b)[0], b, dout)\n",
    "\n",
    "_, cache = affine_forward(x, w, b)\n",
    "dx, dw, db = affine_backward(dout, cache)\n",
    "\n",
    "# The error should be around 1e-10\n",
    "print('Testing affine_backward function:')\n",
    "print('dx error: ', rel_error(dx_num, dx))\n",
    "print('dw error: ', rel_error(dw_num, dw))\n",
    "print('db error: ', rel_error(db_num, db))"
   ]
  },
  {
   "cell_type": "markdown",
   "metadata": {},
   "source": [
    "# ReLU layer: forward\n",
    "Implement the forward pass for the ReLU activation function in the `relu_forward` function and test your implementation using the following:"
   ]
  },
  {
   "cell_type": "code",
   "execution_count": 8,
   "metadata": {},
   "outputs": [
    {
     "name": "stdout",
     "output_type": "stream",
     "text": [
      "Testing relu_forward function:\n",
      "difference:  4.99999979802e-08\n"
     ]
    }
   ],
   "source": [
    "# Test the relu_forward function\n",
    "\n",
    "x = np.linspace(-0.5, 0.5, num=12).reshape(3, 4)\n",
    "\n",
    "out, _ = relu_forward(x)\n",
    "correct_out = np.array([[ 0.,          0.,          0.,          0.,        ],\n",
    "                        [ 0.,          0.,          0.04545455,  0.13636364,],\n",
    "                        [ 0.22727273,  0.31818182,  0.40909091,  0.5,       ]])\n",
    "\n",
    "# Compare your output with ours. The error should be around 5e-8\n",
    "print('Testing relu_forward function:')\n",
    "print('difference: ', rel_error(out, correct_out))"
   ]
  },
  {
   "cell_type": "markdown",
   "metadata": {},
   "source": [
    "# ReLU layer: backward\n",
    "Now implement the backward pass for the ReLU activation function in the `relu_backward` function and test your implementation using numeric gradient checking:"
   ]
  },
  {
   "cell_type": "code",
   "execution_count": 9,
   "metadata": {},
   "outputs": [
    {
     "name": "stdout",
     "output_type": "stream",
     "text": [
      "Testing relu_backward function:\n",
      "dx error:  3.27563491363e-12\n"
     ]
    }
   ],
   "source": [
    "np.random.seed(231)\n",
    "x = np.random.randn(10, 10)\n",
    "dout = np.random.randn(*x.shape)\n",
    "\n",
    "dx_num = eval_numerical_gradient_array(lambda x: relu_forward(x)[0], x, dout)\n",
    "\n",
    "_, cache = relu_forward(x)\n",
    "dx = relu_backward(dout, cache)\n",
    "\n",
    "# The error should be around 3e-12\n",
    "print('Testing relu_backward function:')\n",
    "print('dx error: ', rel_error(dx_num, dx))"
   ]
  },
  {
   "cell_type": "markdown",
   "metadata": {},
   "source": [
    "# \"Sandwich\" layers\n",
    "There are some common patterns of layers that are frequently used in neural nets. For example, affine layers are frequently followed by a ReLU nonlinearity. To make these common patterns easy, we define several convenience layers in the file `cs231n/layer_utils.py`.\n",
    "\n",
    "For now take a look at the `affine_relu_forward` and `affine_relu_backward` functions, and run the following to numerically gradient check the backward pass:"
   ]
  },
  {
   "cell_type": "code",
   "execution_count": 10,
   "metadata": {},
   "outputs": [
    {
     "name": "stdout",
     "output_type": "stream",
     "text": [
      "Testing affine_relu_forward:\n",
      "dx error:  6.75057392888e-11\n",
      "dw error:  8.16201557044e-11\n",
      "db error:  7.82672402146e-12\n"
     ]
    }
   ],
   "source": [
    "from cs231n.layer_utils import affine_relu_forward, affine_relu_backward\n",
    "np.random.seed(231)\n",
    "x = np.random.randn(2, 3, 4)\n",
    "w = np.random.randn(12, 10)\n",
    "b = np.random.randn(10)\n",
    "dout = np.random.randn(2, 10)\n",
    "\n",
    "out, cache = affine_relu_forward(x, w, b)\n",
    "dx, dw, db = affine_relu_backward(dout, cache)\n",
    "\n",
    "dx_num = eval_numerical_gradient_array(lambda x: affine_relu_forward(x, w, b)[0], x, dout)\n",
    "dw_num = eval_numerical_gradient_array(lambda w: affine_relu_forward(x, w, b)[0], w, dout)\n",
    "db_num = eval_numerical_gradient_array(lambda b: affine_relu_forward(x, w, b)[0], b, dout)\n",
    "\n",
    "print('Testing affine_relu_forward:')\n",
    "print('dx error: ', rel_error(dx_num, dx))\n",
    "print('dw error: ', rel_error(dw_num, dw))\n",
    "print('db error: ', rel_error(db_num, db))"
   ]
  },
  {
   "cell_type": "markdown",
   "metadata": {},
   "source": [
    "# Loss layers: Softmax and SVM\n",
    "You implemented these loss functions in the last assignment, so we'll give them to you for free here. You should still make sure you understand how they work by looking at the implementations in `cs231n/layers.py`.\n",
    "\n",
    "You can make sure that the implementations are correct by running the following:"
   ]
  },
  {
   "cell_type": "code",
   "execution_count": 11,
   "metadata": {},
   "outputs": [
    {
     "name": "stdout",
     "output_type": "stream",
     "text": [
      "Testing svm_loss:\n",
      "loss:  8.9996027491\n",
      "dx error:  1.40215660067e-09\n",
      "\n",
      "Testing softmax_loss:\n",
      "loss:  2.3025458445\n",
      "dx error:  9.38467316199e-09\n"
     ]
    }
   ],
   "source": [
    "np.random.seed(231)\n",
    "num_classes, num_inputs = 10, 50\n",
    "x = 0.001 * np.random.randn(num_inputs, num_classes)\n",
    "y = np.random.randint(num_classes, size=num_inputs)\n",
    "\n",
    "dx_num = eval_numerical_gradient(lambda x: svm_loss(x, y)[0], x, verbose=False)\n",
    "loss, dx = svm_loss(x, y)\n",
    "\n",
    "# Test svm_loss function. Loss should be around 9 and dx error should be 1e-9\n",
    "print('Testing svm_loss:')\n",
    "print('loss: ', loss)\n",
    "print('dx error: ', rel_error(dx_num, dx))\n",
    "\n",
    "dx_num = eval_numerical_gradient(lambda x: softmax_loss(x, y)[0], x, verbose=False)\n",
    "loss, dx = softmax_loss(x, y)\n",
    "\n",
    "# Test softmax_loss function. Loss should be 2.3 and dx error should be 1e-8\n",
    "print('\\nTesting softmax_loss:')\n",
    "print('loss: ', loss)\n",
    "print('dx error: ', rel_error(dx_num, dx))"
   ]
  },
  {
   "cell_type": "markdown",
   "metadata": {},
   "source": [
    "# Two-layer network\n",
    "In the previous assignment you implemented a two-layer neural network in a single monolithic class. Now that you have implemented modular versions of the necessary layers, you will reimplement the two layer network using these modular implementations.\n",
    "\n",
    "Open the file `cs231n/classifiers/fc_net.py` and complete the implementation of the `TwoLayerNet` class. This class will serve as a model for the other networks you will implement in this assignment, so read through it to make sure you understand the API. You can run the cell below to test your implementation."
   ]
  },
  {
   "cell_type": "code",
   "execution_count": 17,
   "metadata": {},
   "outputs": [
    {
     "name": "stdout",
     "output_type": "stream",
     "text": [
      "Testing initialization ... \n",
      "Testing test-time forward pass ... \n",
      "Testing training loss (no regularization)\n",
      "Running numeric gradient check with reg =  0.0\n",
      "W1 relative error: 1.52e-08\n",
      "W2 relative error: 3.30e-10\n",
      "b1 relative error: 8.37e-09\n",
      "b2 relative error: 1.34e-10\n",
      "Running numeric gradient check with reg =  0.7\n",
      "W1 relative error: 2.53e-07\n",
      "W2 relative error: 2.85e-08\n",
      "b1 relative error: 1.56e-08\n",
      "b2 relative error: 9.09e-10\n"
     ]
    }
   ],
   "source": [
    "np.random.seed(231)\n",
    "N, D, H, C = 3, 5, 50, 7\n",
    "X = np.random.randn(N, D)\n",
    "y = np.random.randint(C, size=N)\n",
    "\n",
    "std = 1e-3\n",
    "model = TwoLayerNet(input_dim=D, hidden_dim=H, num_classes=C, weight_scale=std)\n",
    "\n",
    "print('Testing initialization ... ')\n",
    "W1_std = abs(model.params['W1'].std() - std)\n",
    "b1 = model.params['b1']\n",
    "W2_std = abs(model.params['W2'].std() - std)\n",
    "b2 = model.params['b2']\n",
    "assert W1_std < std / 10, 'First layer weights do not seem right'\n",
    "assert np.all(b1 == 0), 'First layer biases do not seem right'\n",
    "assert W2_std < std / 10, 'Second layer weights do not seem right'\n",
    "assert np.all(b2 == 0), 'Second layer biases do not seem right'\n",
    "\n",
    "print('Testing test-time forward pass ... ')\n",
    "model.params['W1'] = np.linspace(-0.7, 0.3, num=D*H).reshape(D, H)\n",
    "model.params['b1'] = np.linspace(-0.1, 0.9, num=H)\n",
    "model.params['W2'] = np.linspace(-0.3, 0.4, num=H*C).reshape(H, C)\n",
    "model.params['b2'] = np.linspace(-0.9, 0.1, num=C)\n",
    "X = np.linspace(-5.5, 4.5, num=N*D).reshape(D, N).T\n",
    "scores = model.loss(X)\n",
    "correct_scores = np.asarray(\n",
    "  [[11.53165108,  12.2917344,   13.05181771,  13.81190102,  14.57198434, 15.33206765,  16.09215096],\n",
    "   [12.05769098,  12.74614105,  13.43459113,  14.1230412,   14.81149128, 15.49994135,  16.18839143],\n",
    "   [12.58373087,  13.20054771,  13.81736455,  14.43418138,  15.05099822, 15.66781506,  16.2846319 ]])\n",
    "scores_diff = np.abs(scores - correct_scores).sum()\n",
    "assert scores_diff < 1e-6, 'Problem with test-time forward pass'\n",
    "\n",
    "print('Testing training loss (no regularization)')\n",
    "y = np.asarray([0, 5, 1])\n",
    "loss, grads = model.loss(X, y)\n",
    "correct_loss = 3.4702243556\n",
    "assert abs(loss - correct_loss) < 1e-10, 'Problem with training-time loss'\n",
    "\n",
    "model.reg = 1.0\n",
    "loss, grads = model.loss(X, y)\n",
    "correct_loss = 26.5948426952\n",
    "#print(loss)\n",
    "assert abs(loss - correct_loss) < 1e-10, 'Problem with regularization loss'\n",
    "\n",
    "for reg in [0.0, 0.7]:\n",
    "  print('Running numeric gradient check with reg = ', reg)\n",
    "  model.reg = reg\n",
    "  loss, grads = model.loss(X, y)\n",
    "\n",
    "  for name in sorted(grads):\n",
    "    f = lambda _: model.loss(X, y)[0]\n",
    "    grad_num = eval_numerical_gradient(f, model.params[name], verbose=False)\n",
    "    print('%s relative error: %.2e' % (name, rel_error(grad_num, grads[name])))"
   ]
  },
  {
   "cell_type": "markdown",
   "metadata": {},
   "source": [
    "# Solver\n",
    "In the previous assignment, the logic for training models was coupled to the models themselves. Following a more modular design, for this assignment we have split the logic for training models into a separate class.\n",
    "\n",
    "Open the file `cs231n/solver.py` and read through it to familiarize yourself with the API. After doing so, use a `Solver` instance to train a `TwoLayerNet` that achieves at least `50%` accuracy on the validation set."
   ]
  },
  {
   "cell_type": "code",
   "execution_count": 21,
   "metadata": {},
   "outputs": [
    {
     "name": "stdout",
     "output_type": "stream",
     "text": [
      "(Iteration 1 / 4900) loss: 2.300401\n",
      "(Epoch 0 / 10) train acc: 0.141000; val_acc: 0.154000\n",
      "(Iteration 101 / 4900) loss: 1.831688\n",
      "(Iteration 201 / 4900) loss: 1.659363\n",
      "(Iteration 301 / 4900) loss: 1.697420\n",
      "(Iteration 401 / 4900) loss: 1.694136\n",
      "(Epoch 1 / 10) train acc: 0.449000; val_acc: 0.442000\n",
      "(Iteration 501 / 4900) loss: 1.422067\n",
      "(Iteration 601 / 4900) loss: 1.627954\n",
      "(Iteration 701 / 4900) loss: 1.600746\n",
      "(Iteration 801 / 4900) loss: 1.807114\n",
      "(Iteration 901 / 4900) loss: 1.369160\n",
      "(Epoch 2 / 10) train acc: 0.483000; val_acc: 0.437000\n",
      "(Iteration 1001 / 4900) loss: 1.441723\n",
      "(Iteration 1101 / 4900) loss: 1.424902\n",
      "(Iteration 1201 / 4900) loss: 1.476558\n",
      "(Iteration 1301 / 4900) loss: 1.367937\n",
      "(Iteration 1401 / 4900) loss: 1.576724\n",
      "(Epoch 3 / 10) train acc: 0.492000; val_acc: 0.466000\n",
      "(Iteration 1501 / 4900) loss: 1.363215\n",
      "(Iteration 1601 / 4900) loss: 1.332206\n",
      "(Iteration 1701 / 4900) loss: 1.392299\n",
      "(Iteration 1801 / 4900) loss: 1.151806\n",
      "(Iteration 1901 / 4900) loss: 1.444608\n",
      "(Epoch 4 / 10) train acc: 0.532000; val_acc: 0.493000\n",
      "(Iteration 2001 / 4900) loss: 1.327937\n",
      "(Iteration 2101 / 4900) loss: 1.565983\n",
      "(Iteration 2201 / 4900) loss: 1.276304\n",
      "(Iteration 2301 / 4900) loss: 1.115472\n",
      "(Iteration 2401 / 4900) loss: 1.211709\n",
      "(Epoch 5 / 10) train acc: 0.552000; val_acc: 0.484000\n",
      "(Iteration 2501 / 4900) loss: 1.100147\n",
      "(Iteration 2601 / 4900) loss: 1.250371\n",
      "(Iteration 2701 / 4900) loss: 1.374894\n",
      "(Iteration 2801 / 4900) loss: 1.450718\n",
      "(Iteration 2901 / 4900) loss: 1.604316\n",
      "(Epoch 6 / 10) train acc: 0.596000; val_acc: 0.495000\n",
      "(Iteration 3001 / 4900) loss: 1.349762\n",
      "(Iteration 3101 / 4900) loss: 1.368933\n",
      "(Iteration 3201 / 4900) loss: 1.014192\n",
      "(Iteration 3301 / 4900) loss: 1.191790\n",
      "(Iteration 3401 / 4900) loss: 1.284759\n",
      "(Epoch 7 / 10) train acc: 0.601000; val_acc: 0.490000\n",
      "(Iteration 3501 / 4900) loss: 1.223555\n",
      "(Iteration 3601 / 4900) loss: 1.160568\n",
      "(Iteration 3701 / 4900) loss: 1.201577\n",
      "(Iteration 3801 / 4900) loss: 1.206551\n",
      "(Iteration 3901 / 4900) loss: 1.097626\n",
      "(Epoch 8 / 10) train acc: 0.588000; val_acc: 0.496000\n",
      "(Iteration 4001 / 4900) loss: 1.285710\n",
      "(Iteration 4101 / 4900) loss: 1.135571\n",
      "(Iteration 4201 / 4900) loss: 1.128388\n",
      "(Iteration 4301 / 4900) loss: 1.147713\n",
      "(Iteration 4401 / 4900) loss: 1.004086\n",
      "(Epoch 9 / 10) train acc: 0.583000; val_acc: 0.481000\n",
      "(Iteration 4501 / 4900) loss: 1.143051\n",
      "(Iteration 4601 / 4900) loss: 1.268877\n",
      "(Iteration 4701 / 4900) loss: 1.330201\n",
      "(Iteration 4801 / 4900) loss: 0.909390\n",
      "(Epoch 10 / 10) train acc: 0.589000; val_acc: 0.516000\n"
     ]
    },
    {
     "ename": "AttributeError",
     "evalue": "'Solver' object has no attribute 'best_valacc'",
     "output_type": "error",
     "traceback": [
      "\u001b[1;31m---------------------------------------------------------------------------\u001b[0m",
      "\u001b[1;31mAttributeError\u001b[0m                            Traceback (most recent call last)",
      "\u001b[1;32m<ipython-input-21-3922b1ad9fd8>\u001b[0m in \u001b[0;36m<module>\u001b[1;34m()\u001b[0m\n\u001b[0;32m     15\u001b[0m                print_every = 100)\n\u001b[0;32m     16\u001b[0m \u001b[0msolver\u001b[0m\u001b[1;33m.\u001b[0m\u001b[0mtrain\u001b[0m\u001b[1;33m(\u001b[0m\u001b[1;33m)\u001b[0m\u001b[1;33m\u001b[0m\u001b[0m\n\u001b[1;32m---> 17\u001b[1;33m \u001b[0msolver\u001b[0m\u001b[1;33m.\u001b[0m\u001b[0mbest_valacc\u001b[0m\u001b[1;33m\u001b[0m\u001b[0m\n\u001b[0m\u001b[0;32m     18\u001b[0m \u001b[1;31m##############################################################################\u001b[0m\u001b[1;33m\u001b[0m\u001b[1;33m\u001b[0m\u001b[0m\n\u001b[0;32m     19\u001b[0m \u001b[1;31m#                             END OF YOUR CODE                               #\u001b[0m\u001b[1;33m\u001b[0m\u001b[1;33m\u001b[0m\u001b[0m\n",
      "\u001b[1;31mAttributeError\u001b[0m: 'Solver' object has no attribute 'best_valacc'"
     ]
    }
   ],
   "source": [
    "model = TwoLayerNet()\n",
    "solver = None #其实还未构造sovlerv\n",
    "\n",
    "##############################################################################\n",
    "# TODO: Use a Solver instance to train a TwoLayerNet that achieves at least  #\n",
    "# 50% accuracy on the validation set.                                        #\n",
    "##############################################################################\n",
    "solver = Solver(model, data,\n",
    "               update_rule = 'sgd',\n",
    "               optim_config = {\n",
    "                   'learning_rate':1e-3,\n",
    "               },\n",
    "               lr_decay = 0.95,\n",
    "               num_epochs = 10, batch_size = 100,\n",
    "               print_every = 100)\n",
    "solver.train()\n",
    "solver.best_val_acc\n",
    "##############################################################################\n",
    "#                             END OF YOUR CODE                               #\n",
    "##############################################################################"
   ]
  },
  {
   "cell_type": "code",
   "execution_count": 22,
   "metadata": {},
   "outputs": [
    {
     "data": {
      "image/png": "[encoded data removed]",
      "text/plain": [
       "<matplotlib.figure.Figure at 0x1f83ff5ee10>"
      ]
     },
     "metadata": {},
     "output_type": "display_data"
    }
   ],
   "source": [
    "# Run this cell to visualize training loss and train / val accuracy\n",
    "\n",
    "plt.subplot(2, 1, 1)\n",
    "plt.title('Training loss')\n",
    "plt.plot(solver.loss_history, 'o')\n",
    "plt.xlabel('Iteration')\n",
    "\n",
    "plt.subplot(2, 1, 2)\n",
    "plt.title('Accuracy')\n",
    "plt.plot(solver.train_acc_history, '-o', label='train')\n",
    "plt.plot(solver.val_acc_history, '-o', label='val')\n",
    "plt.plot([0.5] * len(solver.val_acc_history), 'k--')\n",
    "plt.xlabel('Epoch')\n",
    "plt.legend(loc='lower right')\n",
    "plt.gcf().set_size_inches(15, 12)\n",
    "plt.show()"
   ]
  },
  {
   "cell_type": "markdown",
   "metadata": {},
   "source": [
    "# Multilayer network\n",
    "Next you will implement a fully-connected network with an arbitrary number of hidden layers.\n",
    "\n",
    "Read through the `FullyConnectedNet` class in the file `cs231n/classifiers/fc_net.py`.\n",
    "\n",
    "Implement the initialization, the forward pass, and the backward pass. For the moment don't worry about implementing dropout or batch normalization; we will add those features soon."
   ]
  },
  {
   "cell_type": "markdown",
   "metadata": {},
   "source": [
    "## Initial loss and gradient check"
   ]
  },
  {
   "cell_type": "markdown",
   "metadata": {},
   "source": [
    "As a sanity check, run the following to check the initial loss and to gradient check the network both with and without regularization. Do the initial losses seem reasonable?\n",
    "\n",
    "For gradient checking, you should expect to see errors around 1e-6 or less."
   ]
  },
  {
   "cell_type": "code",
   "execution_count": 60,
   "metadata": {},
   "outputs": [
    {
     "name": "stdout",
     "output_type": "stream",
     "text": [
      "Running check with reg =  0\n",
      "Initial loss:  2.30047908977\n",
      "W1 relative error: 1.48e-07\n",
      "W2 relative error: 2.21e-05\n",
      "W3 relative error: 3.53e-07\n",
      "b1 relative error: 5.38e-09\n",
      "b2 relative error: 2.09e-09\n",
      "b3 relative error: 5.80e-11\n",
      "Running check with reg =  3.14\n",
      "Initial loss:  7.05211477653\n",
      "W1 relative error: 7.36e-09\n",
      "W2 relative error: 6.87e-08\n",
      "W3 relative error: 3.48e-08\n",
      "b1 relative error: 1.48e-08\n",
      "b2 relative error: 1.72e-09\n",
      "b3 relative error: 1.80e-10\n"
     ]
    }
   ],
   "source": [
    "np.random.seed(231)\n",
    "N, D, H1, H2, C = 2, 15, 20, 30, 10\n",
    "X = np.random.randn(N, D) #X[2,15]\n",
    "y = np.random.randint(C, size=(N,))\n",
    "\n",
    "for reg in [0, 3.14]:\n",
    "  print('Running check with reg = ', reg) \n",
    "  #隐层有两层\n",
    "  model = FullyConnectedNet([H1, H2], input_dim=D, num_classes=C,\n",
    "                            reg=reg, weight_scale=5e-2, dtype=np.float64)\n",
    "\n",
    "  loss, grads = model.loss(X, y)\n",
    "  print('Initial loss: ', loss)\n",
    "\n",
    "  for name in sorted(grads):\n",
    "    f = lambda _: model.loss(X, y)[0]\n",
    "    grad_num = eval_numerical_gradient(f, model.params[name], verbose=False, h=1e-5)\n",
    "    print('%s relative error: %.2e' % (name, rel_error(grad_num, grads[name])))"
   ]
  },
  {
   "cell_type": "markdown",
   "metadata": {},
   "source": [
    "As another sanity check, make sure you can overfit a small dataset of 50 images. First we will try a three-layer network with 100 units in each hidden layer. You will need to tweak the learning rate and initialization scale, but you should be able to overfit and achieve 100% training accuracy within 20 epochs."
   ]
  },
  {
   "cell_type": "code",
   "execution_count": 24,
   "metadata": {
    "scrolled": false
   },
   "outputs": [
    {
     "name": "stdout",
     "output_type": "stream",
     "text": [
      "(Iteration 1 / 40) loss: 2.259585\n",
      "(Epoch 0 / 20) train acc: 0.360000; val_acc: 0.143000\n",
      "(Epoch 1 / 20) train acc: 0.340000; val_acc: 0.138000\n",
      "(Epoch 2 / 20) train acc: 0.420000; val_acc: 0.100000\n",
      "(Epoch 3 / 20) train acc: 0.500000; val_acc: 0.136000\n",
      "(Epoch 4 / 20) train acc: 0.660000; val_acc: 0.164000\n",
      "(Epoch 5 / 20) train acc: 0.600000; val_acc: 0.159000\n",
      "(Iteration 11 / 40) loss: 0.984760\n",
      "(Epoch 6 / 20) train acc: 0.720000; val_acc: 0.160000\n",
      "(Epoch 7 / 20) train acc: 0.840000; val_acc: 0.175000\n",
      "(Epoch 8 / 20) train acc: 0.900000; val_acc: 0.177000\n",
      "(Epoch 9 / 20) train acc: 0.860000; val_acc: 0.177000\n",
      "(Epoch 10 / 20) train acc: 1.000000; val_acc: 0.182000\n",
      "(Iteration 21 / 40) loss: 0.254577\n",
      "(Epoch 11 / 20) train acc: 0.820000; val_acc: 0.162000\n",
      "(Epoch 12 / 20) train acc: 0.880000; val_acc: 0.191000\n",
      "(Epoch 13 / 20) train acc: 0.980000; val_acc: 0.192000\n",
      "(Epoch 14 / 20) train acc: 0.980000; val_acc: 0.195000\n",
      "(Epoch 15 / 20) train acc: 1.000000; val_acc: 0.188000\n",
      "(Iteration 31 / 40) loss: 0.171447\n",
      "(Epoch 16 / 20) train acc: 1.000000; val_acc: 0.200000\n",
      "(Epoch 17 / 20) train acc: 1.000000; val_acc: 0.198000\n",
      "(Epoch 18 / 20) train acc: 1.000000; val_acc: 0.192000\n",
      "(Epoch 19 / 20) train acc: 1.000000; val_acc: 0.179000\n",
      "(Epoch 20 / 20) train acc: 1.000000; val_acc: 0.198000\n"
     ]
    },
    {
     "data": {
      "image/png": "[encoded data removed]",
      "text/plain": [
       "<matplotlib.figure.Figure at 0x1d637e26748>"
      ]
     },
     "metadata": {},
     "output_type": "display_data"
    }
   ],
   "source": [
    "# TODO: Use a three-layer Net to overfit 50 training examples.\n",
    "\n",
    "num_train = 50\n",
    "small_data = {\n",
    "  'X_train': data['X_train'][:num_train],\n",
    "  'y_train': data['y_train'][:num_train],\n",
    "  'X_val': data['X_val'],\n",
    "  'y_val': data['y_val'],\n",
    "}\n",
    "\n",
    "weight_scale = 1e-2\n",
    "learning_rate = 1e-2\n",
    "model = FullyConnectedNet([100, 100],\n",
    "              weight_scale=weight_scale, dtype=np.float64)\n",
    "solver = Solver(model, small_data,\n",
    "                print_every=10, num_epochs=20, batch_size=25,\n",
    "                update_rule='sgd',\n",
    "                optim_config={\n",
    "                  'learning_rate': learning_rate,\n",
    "                }\n",
    "         )\n",
    "solver.train()\n",
    "\n",
    "plt.plot(solver.loss_history, 'o')\n",
    "plt.title('Training loss history')\n",
    "plt.xlabel('Iteration')\n",
    "plt.ylabel('Training loss')\n",
    "plt.show()"
   ]
  },
  {
   "cell_type": "markdown",
   "metadata": {},
   "source": [
    "Now try to use a five-layer network with 100 units on each layer to overfit 50 training examples. Again you will have to adjust the learning rate and weight initialization, but you should be able to achieve 100% training accuracy within 20 epochs."
   ]
  },
  {
   "cell_type": "code",
   "execution_count": 54,
   "metadata": {},
   "outputs": [
    {
     "name": "stdout",
     "output_type": "stream",
     "text": [
      "(Iteration 1 / 40) loss: 2.302585\n",
      "(Epoch 0 / 20) train acc: 0.160000; val_acc: 0.079000\n",
      "(Epoch 1 / 20) train acc: 0.100000; val_acc: 0.078000\n",
      "(Epoch 2 / 20) train acc: 0.160000; val_acc: 0.079000\n",
      "(Epoch 3 / 20) train acc: 0.160000; val_acc: 0.079000\n",
      "(Epoch 4 / 20) train acc: 0.160000; val_acc: 0.079000\n",
      "(Epoch 5 / 20) train acc: 0.160000; val_acc: 0.079000\n",
      "(Iteration 11 / 40) loss: 2.302584\n",
      "(Epoch 6 / 20) train acc: 0.160000; val_acc: 0.079000\n",
      "(Epoch 7 / 20) train acc: 0.160000; val_acc: 0.079000\n",
      "(Epoch 8 / 20) train acc: 0.160000; val_acc: 0.079000\n",
      "(Epoch 9 / 20) train acc: 0.160000; val_acc: 0.079000\n",
      "(Epoch 10 / 20) train acc: 0.160000; val_acc: 0.079000\n",
      "(Iteration 21 / 40) loss: 2.302582\n",
      "(Epoch 11 / 20) train acc: 0.160000; val_acc: 0.079000\n",
      "(Epoch 12 / 20) train acc: 0.160000; val_acc: 0.079000\n",
      "(Epoch 13 / 20) train acc: 0.160000; val_acc: 0.079000\n",
      "(Epoch 14 / 20) train acc: 0.160000; val_acc: 0.079000\n",
      "(Epoch 15 / 20) train acc: 0.160000; val_acc: 0.079000\n",
      "(Iteration 31 / 40) loss: 2.302584\n",
      "(Epoch 16 / 20) train acc: 0.160000; val_acc: 0.079000\n",
      "(Epoch 17 / 20) train acc: 0.160000; val_acc: 0.079000\n",
      "(Epoch 18 / 20) train acc: 0.160000; val_acc: 0.079000\n",
      "(Epoch 19 / 20) train acc: 0.160000; val_acc: 0.079000\n",
      "(Epoch 20 / 20) train acc: 0.160000; val_acc: 0.079000\n"
     ]
    },
    {
     "data": {
      "image/png": "[encoded data removed]",
      "text/plain": [
       "<matplotlib.figure.Figure at 0x1d6377ab160>"
      ]
     },
     "metadata": {},
     "output_type": "display_data"
    }
   ],
   "source": [
    "# TODO: Use a five-layer Net to overfit 50 training examples.\n",
    "\n",
    "num_train = 50\n",
    "small_data = {\n",
    "  'X_train': data['X_train'][:num_train],\n",
    "  'y_train': data['y_train'][:num_train],\n",
    "  'X_val': data['X_val'],\n",
    "  'y_val': data['y_val'],\n",
    "}\n",
    "\n",
    "learning_rate = 5.5e-6\n",
    "weight_scale = 5.5e-8\n",
    "model = FullyConnectedNet([100, 100, 100, 100],\n",
    "                weight_scale=weight_scale, dtype=np.float64)\n",
    "solver = Solver(model, small_data,\n",
    "                print_every=10, num_epochs=20, batch_size=25,\n",
    "                update_rule='sgd',\n",
    "                optim_config={\n",
    "                  'learning_rate': learning_rate,\n",
    "                }\n",
    "         )\n",
    "solver.train()\n",
    "\n",
    "plt.plot(solver.loss_history, 'o')\n",
    "plt.title('Training loss history')\n",
    "plt.xlabel('Iteration')\n",
    "plt.ylabel('Training loss')\n",
    "plt.show()"
   ]
  },
  {
   "cell_type": "markdown",
   "metadata": {},
   "source": [
    "# Inline question: \n",
    "Did you notice anything about the comparative difficulty of training the three-layer net vs training the five layer net?\n",
    "\n",
    "# Answer:\n",
    "[FILL THIS IN]\n"
   ]
  },
  {
   "cell_type": "markdown",
   "metadata": {},
   "source": [
    "# Update rules\n",
    "So far we have used vanilla stochastic gradient descent (SGD) as our update rule. More sophisticated update rules can make it easier to train deep networks. We will implement a few of the most commonly used update rules and compare them to vanilla SGD."
   ]
  },
  {
   "cell_type": "markdown",
   "metadata": {},
   "source": [
    "# SGD+Momentum\n",
    "Stochastic gradient descent with momentum is a widely used update rule that tends to make deep networks converge faster than vanilla stochstic gradient descent.\n",
    "\n",
    "Open the file `cs231n/optim.py` and read the documentation at the top of the file to make sure you understand the API. Implement the SGD+momentum update rule in the function `sgd_momentum` and run the following to check your implementation. You should see errors less than 1e-8."
   ]
  },
  {
   "cell_type": "code",
   "execution_count": 55,
   "metadata": {},
   "outputs": [
    {
     "name": "stdout",
     "output_type": "stream",
     "text": [
      "next_w error:  8.88234703351e-09\n",
      "velocity error:  4.26928774328e-09\n"
     ]
    }
   ],
   "source": [
    "from cs231n.optim import sgd_momentum\n",
    "\n",
    "N, D = 4, 5\n",
    "w = np.linspace(-0.4, 0.6, num=N*D).reshape(N, D)\n",
    "dw = np.linspace(-0.6, 0.4, num=N*D).reshape(N, D)\n",
    "v = np.linspace(0.6, 0.9, num=N*D).reshape(N, D)\n",
    "\n",
    "config = {'learning_rate': 1e-3, 'velocity': v}\n",
    "next_w, _ = sgd_momentum(w, dw, config=config)\n",
    "\n",
    "expected_next_w = np.asarray([\n",
    "  [ 0.1406,      0.20738947,  0.27417895,  0.34096842,  0.40775789],\n",
    "  [ 0.47454737,  0.54133684,  0.60812632,  0.67491579,  0.74170526],\n",
    "  [ 0.80849474,  0.87528421,  0.94207368,  1.00886316,  1.07565263],\n",
    "  [ 1.14244211,  1.20923158,  1.27602105,  1.34281053,  1.4096    ]])\n",
    "expected_velocity = np.asarray([\n",
    "  [ 0.5406,      0.55475789,  0.56891579, 0.58307368,  0.59723158],\n",
    "  [ 0.61138947,  0.62554737,  0.63970526,  0.65386316,  0.66802105],\n",
    "  [ 0.68217895,  0.69633684,  0.71049474,  0.72465263,  0.73881053],\n",
    "  [ 0.75296842,  0.76712632,  0.78128421,  0.79544211,  0.8096    ]])\n",
    "\n",
    "print('next_w error: ', rel_error(next_w, expected_next_w))\n",
    "print('velocity error: ', rel_error(expected_velocity, config['velocity']))"
   ]
  },
  {
   "cell_type": "markdown",
   "metadata": {},
   "source": [
    "Once you have done so, run the following to train a six-layer network with both SGD and SGD+momentum. You should see the SGD+momentum update rule converge faster."
   ]
  },
  {
   "cell_type": "code",
   "execution_count": 10,
   "metadata": {
    "scrolled": false
   },
   "outputs": [
    {
     "name": "stdout",
     "output_type": "stream",
     "text": [
      "running with  sgd\n",
      "(Iteration 1 / 200) loss: 2.653984\n",
      "(Epoch 0 / 5) train acc: 0.100000; val_acc: 0.135000\n",
      "(Iteration 11 / 200) loss: 2.239606\n",
      "(Iteration 21 / 200) loss: 2.167841\n",
      "(Iteration 31 / 200) loss: 2.070855\n",
      "(Epoch 1 / 5) train acc: 0.272000; val_acc: 0.235000\n",
      "(Iteration 41 / 200) loss: 2.198585\n",
      "(Iteration 51 / 200) loss: 2.097455\n",
      "(Iteration 61 / 200) loss: 1.947697\n",
      "(Iteration 71 / 200) loss: 1.942254\n",
      "(Epoch 2 / 5) train acc: 0.306000; val_acc: 0.264000\n",
      "(Iteration 81 / 200) loss: 1.848152\n",
      "(Iteration 91 / 200) loss: 1.929545\n",
      "(Iteration 101 / 200) loss: 1.999685\n",
      "(Iteration 111 / 200) loss: 2.086337\n",
      "(Epoch 3 / 5) train acc: 0.372000; val_acc: 0.292000\n",
      "(Iteration 121 / 200) loss: 1.717142\n",
      "(Iteration 131 / 200) loss: 1.735981\n",
      "(Iteration 141 / 200) loss: 1.897659\n",
      "(Iteration 151 / 200) loss: 1.589092\n",
      "(Epoch 4 / 5) train acc: 0.380000; val_acc: 0.301000\n",
      "(Iteration 161 / 200) loss: 1.645895\n",
      "(Iteration 171 / 200) loss: 1.723924\n",
      "(Iteration 181 / 200) loss: 1.686146\n",
      "(Iteration 191 / 200) loss: 1.518471\n",
      "(Epoch 5 / 5) train acc: 0.383000; val_acc: 0.317000\n",
      "\n",
      "running with  sgd_momentum\n",
      "(Iteration 1 / 200) loss: 2.667632\n",
      "(Epoch 0 / 5) train acc: 0.097000; val_acc: 0.095000\n",
      "(Iteration 11 / 200) loss: 2.197983\n",
      "(Iteration 21 / 200) loss: 2.008050\n",
      "(Iteration 31 / 200) loss: 1.827514\n",
      "(Epoch 1 / 5) train acc: 0.323000; val_acc: 0.299000\n",
      "(Iteration 41 / 200) loss: 1.578506\n",
      "(Iteration 51 / 200) loss: 1.863933\n",
      "(Iteration 61 / 200) loss: 1.801797\n",
      "(Iteration 71 / 200) loss: 1.948516\n",
      "(Epoch 2 / 5) train acc: 0.403000; val_acc: 0.329000\n",
      "(Iteration 81 / 200) loss: 1.773483\n",
      "(Iteration 91 / 200) loss: 1.722397\n",
      "(Iteration 101 / 200) loss: 1.560824\n",
      "(Iteration 111 / 200) loss: 1.796902\n",
      "(Epoch 3 / 5) train acc: 0.411000; val_acc: 0.311000\n",
      "(Iteration 121 / 200) loss: 1.604348\n",
      "(Iteration 131 / 200) loss: 1.713522\n",
      "(Iteration 141 / 200) loss: 1.508278\n",
      "(Iteration 151 / 200) loss: 1.424719\n",
      "(Epoch 4 / 5) train acc: 0.522000; val_acc: 0.363000\n",
      "(Iteration 161 / 200) loss: 1.350313\n",
      "(Iteration 171 / 200) loss: 1.305020\n",
      "(Iteration 181 / 200) loss: 1.230569\n",
      "(Iteration 191 / 200) loss: 1.266960\n",
      "(Epoch 5 / 5) train acc: 0.557000; val_acc: 0.389000\n",
      "\n"
     ]
    },
    {
     "data": {
      "image/png": "[encoded data removed]",
      "text/plain": [
       "<matplotlib.figure.Figure at 0x23182b61198>"
      ]
     },
     "metadata": {},
     "output_type": "display_data"
    }
   ],
   "source": [
    "num_train = 4000\n",
    "small_data = {\n",
    "  'X_train': data['X_train'][:num_train],\n",
    "  'y_train': data['y_train'][:num_train],\n",
    "  'X_val': data['X_val'],\n",
    "  'y_val': data['y_val'],\n",
    "}\n",
    "\n",
    "solvers = {}\n",
    "\n",
    "for update_rule in ['sgd', 'sgd_momentum']:\n",
    "  print('running with ', update_rule)\n",
    "  model = FullyConnectedNet([100, 100, 100, 100, 100], weight_scale=5e-2)\n",
    "\n",
    "  solver = Solver(model, small_data,\n",
    "                  num_epochs=5, batch_size=100,\n",
    "                  update_rule=update_rule,\n",
    "                  optim_config={\n",
    "                    'learning_rate': 1e-2,\n",
    "                  },\n",
    "                  verbose=True)\n",
    "  solvers[update_rule] = solver\n",
    "  solver.train()\n",
    "  print()\n",
    "\n",
    "plt.subplot(3, 1, 1)\n",
    "plt.title('Training loss')\n",
    "plt.xlabel('Iteration')\n",
    "\n",
    "plt.subplot(3, 1, 2)\n",
    "plt.title('Training accuracy')\n",
    "plt.xlabel('Epoch')\n",
    "\n",
    "plt.subplot(3, 1, 3)\n",
    "plt.title('Validation accuracy')\n",
    "plt.xlabel('Epoch')\n",
    "\n",
    "for update_rule, solver in list(solvers.items()):\n",
    "  plt.subplot(3, 1, 1)\n",
    "  plt.plot(solver.loss_history, 'o', label=update_rule)\n",
    "  \n",
    "  plt.subplot(3, 1, 2)\n",
    "  plt.plot(solver.train_acc_history, '-o', label=update_rule)\n",
    "\n",
    "  plt.subplot(3, 1, 3)\n",
    "  plt.plot(solver.val_acc_history, '-o', label=update_rule)\n",
    "  \n",
    "for i in [1, 2, 3]:\n",
    "  plt.subplot(3, 1, i)\n",
    "  plt.legend(loc='upper center', ncol=4)\n",
    "plt.gcf().set_size_inches(15, 15)\n",
    "plt.show()"
   ]
  },
  {
   "cell_type": "markdown",
   "metadata": {},
   "source": [
    "# RMSProp and Adam\n",
    "RMSProp [1] and Adam [2] are update rules that set per-parameter learning rates by using a running average of the second moments of gradients.\n",
    "\n",
    "In the file `cs231n/optim.py`, implement the RMSProp update rule in the `rmsprop` function and implement the Adam update rule in the `adam` function, and check your implementations using the tests below.\n",
    "\n",
    "[1] Tijmen Tieleman and Geoffrey Hinton. \"Lecture 6.5-rmsprop: Divide the gradient by a running average of its recent magnitude.\" COURSERA: Neural Networks for Machine Learning 4 (2012).\n",
    "\n",
    "[2] Diederik Kingma and Jimmy Ba, \"Adam: A Method for Stochastic Optimization\", ICLR 2015."
   ]
  },
  {
   "cell_type": "code",
   "execution_count": null,
   "metadata": {
    "collapsed": true
   },
   "outputs": [],
   "source": [
    "# Test RMSProp implementation; you should see errors less than 1e-7\n",
    "from cs231n.optim import rmsprop\n",
    "\n",
    "N, D = 4, 5\n",
    "w = np.linspace(-0.4, 0.6, num=N*D).reshape(N, D)\n",
    "dw = np.linspace(-0.6, 0.4, num=N*D).reshape(N, D)\n",
    "cache = np.linspace(0.6, 0.9, num=N*D).reshape(N, D)\n",
    "\n",
    "config = {'learning_rate': 1e-2, 'cache': cache}\n",
    "next_w, _ = rmsprop(w, dw, config=config)\n",
    "\n",
    "expected_next_w = np.asarray([\n",
    "  [-0.39223849, -0.34037513, -0.28849239, -0.23659121, -0.18467247],\n",
    "  [-0.132737,   -0.08078555, -0.02881884,  0.02316247,  0.07515774],\n",
    "  [ 0.12716641,  0.17918792,  0.23122175,  0.28326742,  0.33532447],\n",
    "  [ 0.38739248,  0.43947102,  0.49155973,  0.54365823,  0.59576619]])\n",
    "expected_cache = np.asarray([\n",
    "  [ 0.5976,      0.6126277,   0.6277108,   0.64284931,  0.65804321],\n",
    "  [ 0.67329252,  0.68859723,  0.70395734,  0.71937285,  0.73484377],\n",
    "  [ 0.75037008,  0.7659518,   0.78158892,  0.79728144,  0.81302936],\n",
    "  [ 0.82883269,  0.84469141,  0.86060554,  0.87657507,  0.8926    ]])\n",
    "\n",
    "print('next_w error: ', rel_error(expected_next_w, next_w))\n",
    "print('cache error: ', rel_error(expected_cache, config['cache']))"
   ]
  },
  {
   "cell_type": "code",
   "execution_count": 57,
   "metadata": {},
   "outputs": [
    {
     "ename": "TypeError",
     "evalue": "unsupported operand type(s) for -: 'float' and 'NoneType'",
     "output_type": "error",
     "traceback": [
      "\u001b[1;31m---------------------------------------------------------------------------\u001b[0m",
      "\u001b[1;31mTypeError\u001b[0m                                 Traceback (most recent call last)",
      "\u001b[1;32m<ipython-input-57-99a7ffd96fd4>\u001b[0m in \u001b[0;36m<module>\u001b[1;34m()\u001b[0m\n\u001b[0;32m     27\u001b[0m   [ 0.77210526,  0.79157895,  0.81105263,  0.83052632,  0.85      ]])\n\u001b[0;32m     28\u001b[0m \u001b[1;33m\u001b[0m\u001b[0m\n\u001b[1;32m---> 29\u001b[1;33m \u001b[0mprint\u001b[0m\u001b[1;33m(\u001b[0m\u001b[1;34m'next_w error: '\u001b[0m\u001b[1;33m,\u001b[0m \u001b[0mrel_error\u001b[0m\u001b[1;33m(\u001b[0m\u001b[0mexpected_next_w\u001b[0m\u001b[1;33m,\u001b[0m \u001b[0mnext_w\u001b[0m\u001b[1;33m)\u001b[0m\u001b[1;33m)\u001b[0m\u001b[1;33m\u001b[0m\u001b[0m\n\u001b[0m\u001b[0;32m     30\u001b[0m \u001b[0mprint\u001b[0m\u001b[1;33m(\u001b[0m\u001b[1;34m'v error: '\u001b[0m\u001b[1;33m,\u001b[0m \u001b[0mrel_error\u001b[0m\u001b[1;33m(\u001b[0m\u001b[0mexpected_v\u001b[0m\u001b[1;33m,\u001b[0m \u001b[0mconfig\u001b[0m\u001b[1;33m[\u001b[0m\u001b[1;34m'v'\u001b[0m\u001b[1;33m]\u001b[0m\u001b[1;33m)\u001b[0m\u001b[1;33m)\u001b[0m\u001b[1;33m\u001b[0m\u001b[0m\n\u001b[0;32m     31\u001b[0m \u001b[0mprint\u001b[0m\u001b[1;33m(\u001b[0m\u001b[1;34m'm error: '\u001b[0m\u001b[1;33m,\u001b[0m \u001b[0mrel_error\u001b[0m\u001b[1;33m(\u001b[0m\u001b[0mexpected_m\u001b[0m\u001b[1;33m,\u001b[0m \u001b[0mconfig\u001b[0m\u001b[1;33m[\u001b[0m\u001b[1;34m'm'\u001b[0m\u001b[1;33m]\u001b[0m\u001b[1;33m)\u001b[0m\u001b[1;33m)\u001b[0m\u001b[1;33m\u001b[0m\u001b[0m\n",
      "\u001b[1;32m<ipython-input-3-249f81ca5e9d>\u001b[0m in \u001b[0;36mrel_error\u001b[1;34m(x, y)\u001b[0m\n\u001b[0;32m     21\u001b[0m \u001b[1;32mdef\u001b[0m \u001b[0mrel_error\u001b[0m\u001b[1;33m(\u001b[0m\u001b[0mx\u001b[0m\u001b[1;33m,\u001b[0m \u001b[0my\u001b[0m\u001b[1;33m)\u001b[0m\u001b[1;33m:\u001b[0m\u001b[1;33m\u001b[0m\u001b[0m\n\u001b[0;32m     22\u001b[0m   \u001b[1;34m\"\"\" returns relative error \"\"\"\u001b[0m\u001b[1;33m\u001b[0m\u001b[0m\n\u001b[1;32m---> 23\u001b[1;33m   \u001b[1;32mreturn\u001b[0m \u001b[0mnp\u001b[0m\u001b[1;33m.\u001b[0m\u001b[0mmax\u001b[0m\u001b[1;33m(\u001b[0m\u001b[0mnp\u001b[0m\u001b[1;33m.\u001b[0m\u001b[0mabs\u001b[0m\u001b[1;33m(\u001b[0m\u001b[0mx\u001b[0m \u001b[1;33m-\u001b[0m \u001b[0my\u001b[0m\u001b[1;33m)\u001b[0m \u001b[1;33m/\u001b[0m \u001b[1;33m(\u001b[0m\u001b[0mnp\u001b[0m\u001b[1;33m.\u001b[0m\u001b[0mmaximum\u001b[0m\u001b[1;33m(\u001b[0m\u001b[1;36m1e-8\u001b[0m\u001b[1;33m,\u001b[0m \u001b[0mnp\u001b[0m\u001b[1;33m.\u001b[0m\u001b[0mabs\u001b[0m\u001b[1;33m(\u001b[0m\u001b[0mx\u001b[0m\u001b[1;33m)\u001b[0m \u001b[1;33m+\u001b[0m \u001b[0mnp\u001b[0m\u001b[1;33m.\u001b[0m\u001b[0mabs\u001b[0m\u001b[1;33m(\u001b[0m\u001b[0my\u001b[0m\u001b[1;33m)\u001b[0m\u001b[1;33m)\u001b[0m\u001b[1;33m)\u001b[0m\u001b[1;33m)\u001b[0m\u001b[1;33m\u001b[0m\u001b[0m\n\u001b[0m",
      "\u001b[1;31mTypeError\u001b[0m: unsupported operand type(s) for -: 'float' and 'NoneType'"
     ]
    }
   ],
   "source": [
    "# Test Adam implementation; you should see errors around 1e-7 or less\n",
    "from cs231n.optim import adam\n",
    "\n",
    "N, D = 4, 5\n",
    "w = np.linspace(-0.4, 0.6, num=N*D).reshape(N, D)\n",
    "dw = np.linspace(-0.6, 0.4, num=N*D).reshape(N, D)\n",
    "m = np.linspace(0.6, 0.9, num=N*D).reshape(N, D)\n",
    "v = np.linspace(0.7, 0.5, num=N*D).reshape(N, D)\n",
    "\n",
    "config = {'learning_rate': 1e-2, 'm': m, 'v': v, 't': 5}\n",
    "next_w, _ = adam(w, dw, config=config)\n",
    "\n",
    "expected_next_w = np.asarray([\n",
    "  [-0.40094747, -0.34836187, -0.29577703, -0.24319299, -0.19060977],\n",
    "  [-0.1380274,  -0.08544591, -0.03286534,  0.01971428,  0.0722929],\n",
    "  [ 0.1248705,   0.17744702,  0.23002243,  0.28259667,  0.33516969],\n",
    "  [ 0.38774145,  0.44031188,  0.49288093,  0.54544852,  0.59801459]])\n",
    "expected_v = np.asarray([\n",
    "  [ 0.69966,     0.68908382,  0.67851319,  0.66794809,  0.65738853,],\n",
    "  [ 0.64683452,  0.63628604,  0.6257431,   0.61520571,  0.60467385,],\n",
    "  [ 0.59414753,  0.58362676,  0.57311152,  0.56260183,  0.55209767,],\n",
    "  [ 0.54159906,  0.53110598,  0.52061845,  0.51013645,  0.49966,   ]])\n",
    "expected_m = np.asarray([\n",
    "  [ 0.48,        0.49947368,  0.51894737,  0.53842105,  0.55789474],\n",
    "  [ 0.57736842,  0.59684211,  0.61631579,  0.63578947,  0.65526316],\n",
    "  [ 0.67473684,  0.69421053,  0.71368421,  0.73315789,  0.75263158],\n",
    "  [ 0.77210526,  0.79157895,  0.81105263,  0.83052632,  0.85      ]])\n",
    "\n",
    "print('next_w error: ', rel_error(expected_next_w, next_w))\n",
    "print('v error: ', rel_error(expected_v, config['v']))\n",
    "print('m error: ', rel_error(expected_m, config['m']))"
   ]
  },
  {
   "cell_type": "markdown",
   "metadata": {},
   "source": [
    "Once you have debugged your RMSProp and Adam implementations, run the following to train a pair of deep networks using these new update rules:"
   ]
  },
  {
   "cell_type": "code",
   "execution_count": null,
   "metadata": {
    "collapsed": true
   },
   "outputs": [],
   "source": [
    "learning_rates = {'rmsprop': 1e-4, 'adam': 1e-3}\n",
    "for update_rule in ['adam', 'rmsprop']:\n",
    "  print('running with ', update_rule)\n",
    "  model = FullyConnectedNet([100, 100, 100, 100, 100], weight_scale=5e-2)\n",
    "\n",
    "  solver = Solver(model, small_data,\n",
    "                  num_epochs=5, batch_size=100,\n",
    "                  update_rule=update_rule,\n",
    "                  optim_config={\n",
    "                    'learning_rate': learning_rates[update_rule]\n",
    "                  },\n",
    "                  verbose=True)\n",
    "  solvers[update_rule] = solver\n",
    "  solver.train()\n",
    "  print()\n",
    "\n",
    "plt.subplot(3, 1, 1)\n",
    "plt.title('Training loss')\n",
    "plt.xlabel('Iteration')\n",
    "\n",
    "plt.subplot(3, 1, 2)\n",
    "plt.title('Training accuracy')\n",
    "plt.xlabel('Epoch')\n",
    "\n",
    "plt.subplot(3, 1, 3)\n",
    "plt.title('Validation accuracy')\n",
    "plt.xlabel('Epoch')\n",
    "\n",
    "for update_rule, solver in list(solvers.items()):\n",
    "  plt.subplot(3, 1, 1)\n",
    "  plt.plot(solver.loss_history, 'o', label=update_rule)\n",
    "  \n",
    "  plt.subplot(3, 1, 2)\n",
    "  plt.plot(solver.train_acc_history, '-o', label=update_rule)\n",
    "\n",
    "  plt.subplot(3, 1, 3)\n",
    "  plt.plot(solver.val_acc_history, '-o', label=update_rule)\n",
    "  \n",
    "for i in [1, 2, 3]:\n",
    "  plt.subplot(3, 1, i)\n",
    "  plt.legend(loc='upper center', ncol=4)\n",
    "plt.gcf().set_size_inches(15, 15)\n",
    "plt.show()"
   ]
  },
  {
   "cell_type": "markdown",
   "metadata": {},
   "source": [
    "# Train a good model!\n",
    "Train the best fully-connected model that you can on CIFAR-10, storing your best model in the `best_model` variable. We require you to get at least 50% accuracy on the validation set using a fully-connected net.\n",
    "\n",
    "If you are careful it should be possible to get accuracies above 55%, but we don't require it for this part and won't assign extra credit for doing so. Later in the assignment we will ask you to train the best convolutional network that you can on CIFAR-10, and we would prefer that you spend your effort working on convolutional nets rather than fully-connected nets.\n",
    "\n",
    "You might find it useful to complete the `BatchNormalization.ipynb` and `Dropout.ipynb` notebooks before completing this part, since those techniques can help you train powerful models."
   ]
  },
  {
   "cell_type": "code",
   "execution_count": null,
   "metadata": {
    "scrolled": false
   },
   "outputs": [
    {
     "name": "stdout",
     "output_type": "stream",
     "text": [
      "(Iteration 1 / 19600) loss: 2.230943\n",
      "(Epoch 0 / 10) train acc: 0.092000; val_acc: 0.117000\n",
      "(Iteration 101 / 19600) loss: 2.433041\n",
      "(Iteration 201 / 19600) loss: 2.266761\n",
      "(Iteration 301 / 19600) loss: 2.335331\n",
      "(Iteration 401 / 19600) loss: 2.346728\n",
      "(Iteration 501 / 19600) loss: 2.311392\n",
      "(Iteration 601 / 19600) loss: 2.266522\n",
      "(Iteration 701 / 19600) loss: 2.320514\n",
      "(Iteration 801 / 19600) loss: 2.321997\n",
      "(Iteration 901 / 19600) loss: 2.252203\n",
      "(Iteration 1001 / 19600) loss: 2.222673\n",
      "(Iteration 1101 / 19600) loss: 2.251181\n",
      "(Iteration 1201 / 19600) loss: 2.221934\n",
      "(Iteration 1301 / 19600) loss: 2.305264\n",
      "(Iteration 1401 / 19600) loss: 2.264523\n",
      "(Iteration 1501 / 19600) loss: 2.201006\n",
      "(Iteration 1601 / 19600) loss: 2.362940\n",
      "(Iteration 1701 / 19600) loss: 2.228711\n",
      "(Iteration 1801 / 19600) loss: 2.406034\n",
      "(Iteration 1901 / 19600) loss: 2.244910\n",
      "(Epoch 1 / 10) train acc: 0.231000; val_acc: 0.216000\n",
      "(Iteration 2001 / 19600) loss: 2.314498\n",
      "(Iteration 2101 / 19600) loss: 2.073651\n",
      "(Iteration 2201 / 19600) loss: 2.102435\n",
      "(Iteration 2301 / 19600) loss: 2.393753\n",
      "(Iteration 2401 / 19600) loss: 2.320688\n",
      "(Iteration 2501 / 19600) loss: 2.284029\n",
      "(Iteration 2601 / 19600) loss: 2.058579\n",
      "(Iteration 2701 / 19600) loss: 2.094773\n",
      "(Iteration 2801 / 19600) loss: 2.062282\n",
      "(Iteration 2901 / 19600) loss: 2.293525\n",
      "(Iteration 3001 / 19600) loss: 2.182575\n",
      "(Iteration 3101 / 19600) loss: 2.125551\n",
      "(Iteration 3201 / 19600) loss: 2.244409\n",
      "(Iteration 3301 / 19600) loss: 2.116076\n",
      "(Iteration 3401 / 19600) loss: 2.011961\n",
      "(Iteration 3501 / 19600) loss: 2.232542\n",
      "(Iteration 3601 / 19600) loss: 1.926280\n",
      "(Iteration 3701 / 19600) loss: 1.916203\n",
      "(Iteration 3801 / 19600) loss: 2.100437\n",
      "(Iteration 3901 / 19600) loss: 2.164156\n",
      "(Epoch 2 / 10) train acc: 0.251000; val_acc: 0.243000\n",
      "(Iteration 4001 / 19600) loss: 2.031586\n",
      "(Iteration 4101 / 19600) loss: 2.078914\n",
      "(Iteration 4201 / 19600) loss: 2.202450\n",
      "(Iteration 4301 / 19600) loss: 2.099605\n",
      "(Iteration 4401 / 19600) loss: 2.007600\n",
      "(Iteration 4501 / 19600) loss: 2.047422\n",
      "(Iteration 4601 / 19600) loss: 2.085598\n",
      "(Iteration 4701 / 19600) loss: 2.050454\n",
      "(Iteration 4801 / 19600) loss: 1.752141\n",
      "(Iteration 4901 / 19600) loss: 2.004841\n",
      "(Iteration 5001 / 19600) loss: 2.197463\n",
      "(Iteration 5101 / 19600) loss: 1.943174\n",
      "(Iteration 5201 / 19600) loss: 2.087483\n",
      "(Iteration 5301 / 19600) loss: 1.998888\n",
      "(Iteration 5401 / 19600) loss: 1.952871\n",
      "(Iteration 5501 / 19600) loss: 2.172841\n",
      "(Iteration 5601 / 19600) loss: 2.029982\n",
      "(Iteration 5701 / 19600) loss: 2.175441\n",
      "(Iteration 5801 / 19600) loss: 2.173351\n",
      "(Epoch 3 / 10) train acc: 0.249000; val_acc: 0.250000\n",
      "(Iteration 5901 / 19600) loss: 2.227766\n",
      "(Iteration 6001 / 19600) loss: 2.244744\n",
      "(Iteration 6101 / 19600) loss: 2.287425\n",
      "(Iteration 6201 / 19600) loss: 2.121049\n",
      "(Iteration 6301 / 19600) loss: 2.248754\n",
      "(Iteration 6401 / 19600) loss: 1.958291\n",
      "(Iteration 6501 / 19600) loss: 2.151438\n",
      "(Iteration 6601 / 19600) loss: 2.168090\n",
      "(Iteration 6701 / 19600) loss: 1.935192\n",
      "(Iteration 6801 / 19600) loss: 1.872775\n",
      "(Iteration 6901 / 19600) loss: 2.015562\n",
      "(Iteration 7001 / 19600) loss: 2.084611\n",
      "(Iteration 7101 / 19600) loss: 1.868418\n",
      "(Iteration 7201 / 19600) loss: 1.909200\n",
      "(Iteration 7301 / 19600) loss: 2.117904\n",
      "(Iteration 7401 / 19600) loss: 2.106396\n",
      "(Iteration 7501 / 19600) loss: 1.974716\n",
      "(Iteration 7601 / 19600) loss: 1.946421\n",
      "(Iteration 7701 / 19600) loss: 2.090646\n",
      "(Iteration 7801 / 19600) loss: 1.868312\n",
      "(Epoch 4 / 10) train acc: 0.235000; val_acc: 0.277000\n",
      "(Iteration 7901 / 19600) loss: 2.056116\n",
      "(Iteration 8001 / 19600) loss: 1.876477\n",
      "(Iteration 8101 / 19600) loss: 1.905647\n",
      "(Iteration 8201 / 19600) loss: 2.114831\n",
      "(Iteration 8301 / 19600) loss: 2.059348\n",
      "(Iteration 8401 / 19600) loss: 1.945569\n",
      "(Iteration 8501 / 19600) loss: 1.914304\n",
      "(Iteration 8601 / 19600) loss: 1.991125\n",
      "(Iteration 8701 / 19600) loss: 2.021311\n",
      "(Iteration 8801 / 19600) loss: 1.834047\n",
      "(Iteration 8901 / 19600) loss: 2.009778\n",
      "(Iteration 9001 / 19600) loss: 1.780311\n",
      "(Iteration 9101 / 19600) loss: 1.984577\n",
      "(Iteration 9201 / 19600) loss: 2.385805\n",
      "(Iteration 9301 / 19600) loss: 1.886585\n",
      "(Iteration 9401 / 19600) loss: 2.044742\n",
      "(Iteration 9501 / 19600) loss: 1.934460\n",
      "(Iteration 9601 / 19600) loss: 1.957251\n",
      "(Iteration 9701 / 19600) loss: 1.890625\n",
      "(Epoch 5 / 10) train acc: 0.307000; val_acc: 0.283000\n",
      "(Iteration 9801 / 19600) loss: 2.229898\n",
      "(Iteration 9901 / 19600) loss: 2.037300\n",
      "(Iteration 10001 / 19600) loss: 2.100451\n",
      "(Iteration 10101 / 19600) loss: 1.845710\n",
      "(Iteration 10201 / 19600) loss: 2.006783\n",
      "(Iteration 10301 / 19600) loss: 2.308557\n",
      "(Iteration 10401 / 19600) loss: 1.930571\n",
      "(Iteration 10501 / 19600) loss: 1.948108\n",
      "(Iteration 10601 / 19600) loss: 1.957056\n",
      "(Iteration 10701 / 19600) loss: 1.980904\n",
      "(Iteration 10801 / 19600) loss: 1.926457\n",
      "(Iteration 10901 / 19600) loss: 2.213902\n",
      "(Iteration 11001 / 19600) loss: 2.050593\n",
      "(Iteration 11101 / 19600) loss: 2.006471\n",
      "(Iteration 11201 / 19600) loss: 2.107769\n",
      "(Iteration 11301 / 19600) loss: 1.812946\n",
      "(Iteration 11401 / 19600) loss: 1.995529\n",
      "(Iteration 11501 / 19600) loss: 2.007598\n",
      "(Iteration 11601 / 19600) loss: 2.021720\n",
      "(Iteration 11701 / 19600) loss: 2.168406\n",
      "(Epoch 6 / 10) train acc: 0.293000; val_acc: 0.331000\n",
      "(Iteration 11801 / 19600) loss: 2.191512\n",
      "(Iteration 11901 / 19600) loss: 1.855710\n",
      "(Iteration 12001 / 19600) loss: 1.831246\n",
      "(Iteration 12101 / 19600) loss: 1.875184\n",
      "(Iteration 12201 / 19600) loss: 1.909937\n",
      "(Iteration 12301 / 19600) loss: 1.758447\n",
      "(Iteration 12401 / 19600) loss: 2.059685\n",
      "(Iteration 12501 / 19600) loss: 2.046693\n",
      "(Iteration 12601 / 19600) loss: 1.889108\n",
      "(Iteration 12701 / 19600) loss: 2.139028\n",
      "(Iteration 12801 / 19600) loss: 2.109550\n",
      "(Iteration 12901 / 19600) loss: 1.916318\n",
      "(Iteration 13001 / 19600) loss: 2.025233\n",
      "(Iteration 13101 / 19600) loss: 1.920993\n",
      "(Iteration 13201 / 19600) loss: 2.136932\n",
      "(Iteration 13301 / 19600) loss: 2.195765\n",
      "(Iteration 13401 / 19600) loss: 1.956971\n",
      "(Iteration 13501 / 19600) loss: 1.834797\n",
      "(Iteration 13601 / 19600) loss: 2.542154\n",
      "(Iteration 13701 / 19600) loss: 1.935595\n",
      "(Epoch 7 / 10) train acc: 0.314000; val_acc: 0.319000\n",
      "(Iteration 13801 / 19600) loss: 2.151803\n",
      "(Iteration 13901 / 19600) loss: 1.860326\n",
      "(Iteration 14001 / 19600) loss: 2.142413\n",
      "(Iteration 14101 / 19600) loss: 2.046121\n",
      "(Iteration 14201 / 19600) loss: 2.733386\n",
      "(Iteration 14301 / 19600) loss: 1.854507\n",
      "(Iteration 14401 / 19600) loss: 1.910536\n",
      "(Iteration 14501 / 19600) loss: 1.887132\n",
      "(Iteration 14601 / 19600) loss: 2.087268\n",
      "(Iteration 14701 / 19600) loss: 2.087316\n",
      "(Iteration 14801 / 19600) loss: 1.929716\n",
      "(Iteration 14901 / 19600) loss: 2.158520\n",
      "(Iteration 15001 / 19600) loss: 1.810532\n",
      "(Iteration 15101 / 19600) loss: 2.354944\n",
      "(Iteration 15201 / 19600) loss: 1.699006\n",
      "(Iteration 15301 / 19600) loss: 1.855168\n",
      "(Iteration 15401 / 19600) loss: 1.952758\n",
      "(Iteration 15501 / 19600) loss: 2.255900\n",
      "(Iteration 15601 / 19600) loss: 2.185114\n",
      "(Epoch 8 / 10) train acc: 0.309000; val_acc: 0.341000\n",
      "(Iteration 15701 / 19600) loss: 1.963698\n",
      "(Iteration 15801 / 19600) loss: 1.974556\n",
      "(Iteration 15901 / 19600) loss: 1.782020\n",
      "(Iteration 16001 / 19600) loss: 1.984477\n",
      "(Iteration 16101 / 19600) loss: 1.715968\n",
      "(Iteration 16201 / 19600) loss: 1.811499\n",
      "(Iteration 16301 / 19600) loss: 1.962558\n",
      "(Iteration 16401 / 19600) loss: 1.960494\n",
      "(Iteration 16501 / 19600) loss: 1.876077\n",
      "(Iteration 16601 / 19600) loss: 1.837815\n",
      "(Iteration 16701 / 19600) loss: 1.918045\n",
      "(Iteration 16801 / 19600) loss: 2.258984\n",
      "(Iteration 16901 / 19600) loss: 1.951328\n"
     ]
    }
   ],
   "source": [
    "best_model = None\n",
    "################################################################################\n",
    "# TODO: Train the best FullyConnectedNet that you can on CIFAR-10. You might   #\n",
    "# batch normalization and dropout useful. Store your best model in the         #\n",
    "# best_model variable.                                                         #\n",
    "################################################################################\n",
    "X_val=data['X_val']  \n",
    "y_val=data['y_val']  \n",
    "X_test=data['X_test']  \n",
    "y_test=data['y_test']  \n",
    "lr=1e-04  \n",
    "model=FullyConnectedNet([100,100,100,100],weight_scale=2.4618e-02,dtype=np.float64,use_batchnorm=False,dropout=0.5,reg=0)  \n",
    "solver=Solver(model,data,print_every=100,num_epochs=10,batch_size=25,update_rule='sgd_momentum',optim_config={'learning_rate':lr,},lr_decay=1.0,verbose=True)  \n",
    "solver.train()  #因为我没有实现了Apram 所以错了，\n",
    "  \n",
    "  \n",
    "plt.subplot(2, 1, 1)  \n",
    "plt.plot(solver.loss_history)  \n",
    "plt.title('Loss history')  \n",
    "plt.xlabel('Iteration')  \n",
    "plt.ylabel('Loss')  \n",
    "  \n",
    "plt.subplot(2, 1, 2)  \n",
    "plt.plot(solver.train_acc_history, label='train')  \n",
    "plt.plot(solver.val_acc_history, label='val')  \n",
    "plt.title('Classification accuracy history')  \n",
    "plt.xlabel('Epoch')  \n",
    "plt.ylabel('Clasification accuracy')  \n",
    "plt.show()  \n",
    "################################################################################\n",
    "#                              END OF YOUR CODE                                #\n",
    "################################################################################"
   ]
  },
  {
   "cell_type": "markdown",
   "metadata": {},
   "source": [
    "# Test you model\n",
    "Run your best model on the validation and test sets. You should achieve above 50% accuracy on the validation set."
   ]
  },
  {
   "cell_type": "code",
   "execution_count": null,
   "metadata": {
    "collapsed": true
   },
   "outputs": [],
   "source": [
    "y_test_pred = np.argmax(best_model.loss(data['X_test']), axis=1)\n",
    "y_val_pred = np.argmax(best_model.loss(data['X_val']), axis=1)\n",
    "print('Validation set accuracy: ', (y_val_pred == data['y_val']).mean())\n",
    "print('Test set accuracy: ', (y_test_pred == data['y_test']).mean())"
   ]
  }
 ],
 "metadata": {
  "kernelspec": {
   "display_name": "Python 3",
   "language": "python",
   "name": "python3"
  },
  "language_info": {
   "codemirror_mode": {
    "name": "ipython",
    "version": 3
   },
   "file_extension": ".py",
   "mimetype": "text/x-python",
   "name": "python",
   "nbconvert_exporter": "python",
   "pygments_lexer": "ipython3",
   "version": "3.6.2"
  }
 },
 "nbformat": 4,
 "nbformat_minor": 1
}
